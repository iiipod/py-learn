{
 "cells": [
  {
   "cell_type": "code",
   "execution_count": 7,
   "metadata": {
    "collapsed": false
   },
   "outputs": [
    {
     "name": "stdout",
     "output_type": "stream",
     "text": [
      "今日实时热点排行榜\n",
      "xSWs\n",
      "今日热门搜索排行榜\n",
      "xSWs\n",
      "今日美女排行榜\n",
      "xSWs\n",
      "今日电视剧排行榜\n",
      "xSWs\n",
      "今日热门搜索排行榜\n",
      "xSWs\n",
      "今日移动热门突发排行榜\n",
      "xSWs\n",
      "今日小说排行榜\n",
      "xSWs\n",
      "今日热点推荐排行榜\n",
      "xSWs\n"
     ]
    },
    {
     "ename": "IndexError",
     "evalue": "list index out of range",
     "output_type": "error",
     "traceback": [
      "\u001b[1;31m---------------------------------------------------------------------------\u001b[0m",
      "\u001b[1;31mIndexError\u001b[0m                                Traceback (most recent call last)",
      "\u001b[1;32m<ipython-input-7-2c1b47c2ad66>\u001b[0m in \u001b[0;36m<module>\u001b[1;34m()\u001b[0m\n\u001b[0;32m     45\u001b[0m     \u001b[1;32mif\u001b[0m \u001b[0mlen\u001b[0m\u001b[1;33m(\u001b[0m\u001b[0mrtex\u001b[0m\u001b[1;33m.\u001b[0m\u001b[0mcontent\u001b[0m\u001b[1;33m)\u001b[0m \u001b[1;33m!=\u001b[0m \u001b[1;36m32283\u001b[0m\u001b[1;33m:\u001b[0m\u001b[1;33m\u001b[0m\u001b[0m\n\u001b[0;32m     46\u001b[0m         \u001b[0mtre\u001b[0m \u001b[1;33m=\u001b[0m \u001b[0mre\u001b[0m\u001b[1;33m.\u001b[0m\u001b[0mfindall\u001b[0m\u001b[1;33m(\u001b[0m\u001b[1;34m\"\\[\\\"p_name\\\"\\] = \\\".*?\\\"\"\u001b[0m\u001b[1;33m,\u001b[0m \u001b[0mrtex\u001b[0m\u001b[1;33m.\u001b[0m\u001b[0mcontent\u001b[0m\u001b[1;33m)\u001b[0m\u001b[1;33m\u001b[0m\u001b[0m\n\u001b[1;32m---> 47\u001b[1;33m         \u001b[0mtitl\u001b[0m \u001b[1;33m=\u001b[0m \u001b[0mtre\u001b[0m\u001b[1;33m[\u001b[0m\u001b[1;36m0\u001b[0m\u001b[1;33m]\u001b[0m\u001b[1;33m[\u001b[0m\u001b[1;36m14\u001b[0m\u001b[1;33m:\u001b[0m\u001b[1;33m-\u001b[0m\u001b[1;36m1\u001b[0m\u001b[1;33m]\u001b[0m\u001b[1;33m.\u001b[0m\u001b[0mdecode\u001b[0m\u001b[1;33m(\u001b[0m\u001b[1;34m'GBK'\u001b[0m\u001b[1;33m)\u001b[0m\u001b[1;33m\u001b[0m\u001b[0m\n\u001b[0m\u001b[0;32m     48\u001b[0m         \u001b[1;32mprint\u001b[0m \u001b[0mtitl\u001b[0m\u001b[1;33m\u001b[0m\u001b[0m\n\u001b[0;32m     49\u001b[0m         \u001b[0mdb\u001b[0m\u001b[1;33m.\u001b[0m\u001b[0msql\u001b[0m \u001b[1;33m=\u001b[0m \u001b[1;34m\"INSERT INTO hotid(b,title,url,cloc) VALUES (\"\u001b[0m \u001b[1;33m+\u001b[0m \u001b[0mstr\u001b[0m\u001b[1;33m(\u001b[0m\u001b[0mi\u001b[0m\u001b[1;33m)\u001b[0m \u001b[1;33m+\u001b[0m \u001b[1;34m\",'\"\u001b[0m \u001b[1;33m+\u001b[0m \u001b[0mtitl\u001b[0m \u001b[1;33m+\u001b[0m \u001b[1;34m\"','\"\u001b[0m \u001b[1;33m+\u001b[0m \u001b[0murl\u001b[0m \u001b[1;33m+\u001b[0m \u001b[1;34m\"','\"\u001b[0m \u001b[1;33m+\u001b[0m \u001b[0mcloc\u001b[0m \u001b[1;33m+\u001b[0m \u001b[1;34m\"')\"\u001b[0m\u001b[1;33m\u001b[0m\u001b[0m\n",
      "\u001b[1;31mIndexError\u001b[0m: list index out of range"
     ]
    }
   ],
   "source": [
    "# __author__ = 'kohna'\n",
    "# -*- coding:UTF-8 -*-\n",
    "import requests\n",
    "import psycopg2\n",
    "import time\n",
    "import re\n",
    "\n",
    "\n",
    "class DBopt:\n",
    "    def __init__(self):\n",
    "        try:\n",
    "            self.conn = psycopg2.connect(database=\"solidot\", user=\"python\", password=\"passw0rd3pyth4n\", host=\"127.0.0.1\", port=\"5432\")\n",
    "        except psycopg2.Error, e:\n",
    "            print \"xs\"\n",
    "            return\n",
    "\n",
    "        self.cur = self.conn.cursor()\n",
    "        self.sql = 'sql'\n",
    "\n",
    "    def sqlexe(self):\n",
    "        try:\n",
    "            temp = self.cur.execute(self.sql)\n",
    "        except psycopg2.Error, e:\n",
    "            print \"xSWs\"\n",
    "            return\n",
    "        self.conn.commit()\n",
    "\n",
    "        return temp\n",
    "\n",
    "    def dbclose(self):\n",
    "        self.conn.close()\n",
    "\n",
    "\n",
    "db = DBopt()\n",
    "db.sql = '''CREATE TABLE IF NOT EXISTS hotid(id INTEGER PRIMARY KEY,b INTEGER ,title VARCHAR(32),url VARCHAR(64), cloc TIME )'''\n",
    "db.sqlexe()\n",
    "cloc = time.strftime('%Y-%m-%d %H:%M', time.localtime(time.time()))\n",
    "timest = str(time.time())\n",
    "\n",
    "head = {'User-Agent':'Mozilla/5.0 (X11; Linux x86_64) AppleWebKit/537.36 (KHTML, like Gecko) Chrome/51.0.2704.19 Safari/537.36'}\n",
    "\n",
    "for i in range(1, 10000):\n",
    "    url = 'http://top.baidu.com/clip?b=' + str(i)\n",
    "    rtex = requests.get(url, headers=head)\n",
    "    if len(rtex.content) != 32283:\n",
    "        tre = re.findall(\"\\[\\\"p_name\\\"\\] = \\\".*?\\\"\", rtex.content)\n",
    "        titl = tre[0][14:-1].decode('GBK')\n",
    "        print titl\n",
    "        db.sql = \"INSERT INTO hotid(b,title,url,cloc) VALUES (\" + str(i) + \",'\" + titl + \"','\" + url + \"','\" + cloc + \"')\"\n",
    "        db.sqlexe()\n",
    "    time.sleep(2)\n",
    "db.dbclose()"
   ]
  },
  {
   "cell_type": "code",
   "execution_count": null,
   "metadata": {
    "collapsed": true
   },
   "outputs": [],
   "source": []
  }
 ],
 "metadata": {
  "kernelspec": {
   "display_name": "Python 2",
   "language": "python",
   "name": "python2"
  },
  "language_info": {
   "codemirror_mode": {
    "name": "ipython",
    "version": 2
   },
   "file_extension": ".py",
   "mimetype": "text/x-python",
   "name": "python",
   "nbconvert_exporter": "python",
   "pygments_lexer": "ipython2",
   "version": "2.7.10"
  }
 },
 "nbformat": 4,
 "nbformat_minor": 0
}
