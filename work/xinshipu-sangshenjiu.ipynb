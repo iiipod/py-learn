{
 "cells": [
  {
   "cell_type": "code",
   "execution_count": 4,
   "metadata": {
    "collapsed": false
   },
   "outputs": [
    {
     "name": "stdout",
     "output_type": "stream",
     "text": [
      "自酿桑葚酒\n",
      "\n",
      "\n",
      "材料:桑椹干250g，冰糖100g， 50度-60度白酒2000㏄.\n",
      "\n",
      "\n",
      "做法:\n",
      "\n",
      "\n",
      "1、桑葚洗净控干水分凉干（桑椹干最好不洗），玻璃瓶洗净晾干，桑葚放进瓶里。\r\n",
      "2、放上冰糖，加满酒没过桑葚，密封好口放置阴凉通风处。\r\n",
      "3、每周摇晃1次，3个月即可过滤饮用。\n",
      "\n",
      "\n",
      "小诀窍:\n",
      "\n",
      "\n",
      "1、桑葚分果桑和叶桑，我们一般酿制桑葚酒选择的是果桑，选择那些果实成熟好，果粒饱满的，颜色黑紫的，作为酿酒的原料。\r\n",
      "2、一般来说，桑葚与酒的配比是1:1，桑葚与冰糖的配比是10:1，也可以按照自己的口味多加酒或者多加糖。大致与葡萄酒的做法类似。只是桑葚皮薄易破损，一般不建议清洗，如需要清洗可在水中加入玉米淀粉来清理和消毒。 \r\n",
      "3、桑椹泡过酒后，可重新注入白酒泡一二次，再混合在一起，充分溶解桑椹营养。\n"
     ]
    }
   ],
   "source": [
    "#coding=utf-8\n",
    "import requests\n",
    "from bs4 import BeautifulSoup\n",
    "\n",
    "html = 'http://www.xinshipu.com/zuofa/425845'\n",
    "res = requests.get(html)\n",
    "soup = BeautifulSoup(res.text)\n",
    "print soup.select('.font16.h47.tc.cg1')[0].text\n",
    "print '\\n'\n",
    "print soup.select('.subtitle.cg1')[0].text + \":\" + soup.select('.ptm12.mlr1.btm')[0].text\n",
    "print '\\n'\n",
    "\n",
    "print soup.select('.subtitle.cg1')[1].text + \":\" \n",
    "print '\\n'\n",
    "print soup.select('.mlr1.bbm p:nth-of-type(1)')[0].text\n",
    "print soup.select('.mlr1.bbm p:nth-of-type(2)')[0].text\n",
    "print soup.select('.mlr1.bbm p:nth-of-type(3)')[0].text\n",
    "\n",
    "print '\\n'\n",
    "print soup.select('.subtitle.cg1')[2].text + \":\"\n",
    "print '\\n'\n",
    "print soup.select('.mlr1.bbm p:nth-of-type(4)')[0].text\n",
    "print soup.select('.mlr1.bbm p:nth-of-type(5)')[0].text\n",
    "print soup.select('.mlr1.bbm p:nth-of-type(6)')[0].text\n"
   ]
  },
  {
   "cell_type": "code",
   "execution_count": null,
   "metadata": {
    "collapsed": true
   },
   "outputs": [],
   "source": []
  },
  {
   "cell_type": "code",
   "execution_count": null,
   "metadata": {
    "collapsed": true
   },
   "outputs": [],
   "source": []
  },
  {
   "cell_type": "code",
   "execution_count": null,
   "metadata": {
    "collapsed": true
   },
   "outputs": [],
   "source": []
  },
  {
   "cell_type": "code",
   "execution_count": null,
   "metadata": {
    "collapsed": true
   },
   "outputs": [],
   "source": []
  }
 ],
 "metadata": {
  "kernelspec": {
   "display_name": "Python 2",
   "language": "python",
   "name": "python2"
  },
  "language_info": {
   "codemirror_mode": {
    "name": "ipython",
    "version": 2
   },
   "file_extension": ".py",
   "mimetype": "text/x-python",
   "name": "python",
   "nbconvert_exporter": "python",
   "pygments_lexer": "ipython2",
   "version": "2.7.11+"
  }
 },
 "nbformat": 4,
 "nbformat_minor": 0
}
