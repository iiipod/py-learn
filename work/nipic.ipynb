{
 "cells": [
  {
   "cell_type": "code",
   "execution_count": 2,
   "metadata": {
    "collapsed": false
   },
   "outputs": [
    {
     "ename": "ProgrammingError",
     "evalue": "错误:  关系 \"solidot\" 不存在\nLINE 1: INSERT INTO solidot VALUES (1, '\\xffd8ffe000104a464946000101...\n                    ^\n",
     "output_type": "error",
     "traceback": [
      "\u001b[1;31m---------------------------------------------------------------------------\u001b[0m",
      "\u001b[1;31mProgrammingError\u001b[0m                          Traceback (most recent call last)",
      "\u001b[1;32m<ipython-input-2-573139286879>\u001b[0m in \u001b[0;36m<module>\u001b[1;34m()\u001b[0m\n\u001b[0;32m     22\u001b[0m \u001b[0mablob\u001b[0m \u001b[1;33m=\u001b[0m \u001b[0mf\u001b[0m\u001b[1;33m.\u001b[0m\u001b[0mread\u001b[0m\u001b[1;33m(\u001b[0m\u001b[1;33m)\u001b[0m\u001b[1;33m\u001b[0m\u001b[0m\n\u001b[0;32m     23\u001b[0m \u001b[0mf\u001b[0m\u001b[1;33m.\u001b[0m\u001b[0mclose\u001b[0m\u001b[1;33m(\u001b[0m\u001b[1;33m)\u001b[0m\u001b[1;33m\u001b[0m\u001b[0m\n\u001b[1;32m---> 24\u001b[1;33m \u001b[0mdb\u001b[0m\u001b[1;33m.\u001b[0m\u001b[0mexecute\u001b[0m\u001b[1;33m(\u001b[0m\u001b[1;34m\"INSERT INTO solidot VALUES (%s, %s, %s)\"\u001b[0m\u001b[1;33m,\u001b[0m \u001b[1;33m(\u001b[0m\u001b[1;36m1\u001b[0m\u001b[1;33m,\u001b[0m \u001b[0mpsycopg2\u001b[0m\u001b[1;33m.\u001b[0m\u001b[0mBinary\u001b[0m\u001b[1;33m(\u001b[0m\u001b[0mablob\u001b[0m\u001b[1;33m)\u001b[0m\u001b[1;33m,\u001b[0m \u001b[1;36m0\u001b[0m\u001b[1;33m)\u001b[0m\u001b[1;33m)\u001b[0m\u001b[1;33m\u001b[0m\u001b[0m\n\u001b[0m\u001b[0;32m     25\u001b[0m \u001b[1;33m\u001b[0m\u001b[0m\n\u001b[0;32m     26\u001b[0m \u001b[0mconn\u001b[0m\u001b[1;33m.\u001b[0m\u001b[0mcommit\u001b[0m\u001b[1;33m(\u001b[0m\u001b[1;33m)\u001b[0m\u001b[1;33m\u001b[0m\u001b[0m\n",
      "\u001b[1;31mProgrammingError\u001b[0m: 错误:  关系 \"solidot\" 不存在\nLINE 1: INSERT INTO solidot VALUES (1, '\\xffd8ffe000104a464946000101...\n                    ^\n"
     ]
    }
   ],
   "source": [
    "import requests\n",
    "from bs4 import BeautifulSoup\n",
    "import shutil\n",
    "import psycopg2\n",
    "\n",
    "conn = psycopg2.connect(database=\"solidot\", user=\"python\", password=\"passw0rd3pyth4n\", host=\"127.0.0.1\", port=\"5432\")\n",
    "db = conn.cursor()\n",
    "\n",
    "html = 'http://pic94.nipic.com/file/20160409/11284670_185122899000_2.jpg'\n",
    "res = requests.get(html, 'html.parser', stream=True)\n",
    "\n",
    "#soup = BeautifulSoup(res.text)\n",
    "\n",
    "#times = len(soup.findAll('li', attrs={'class': \"works-box\\ mb17\\ fl\"}))\n",
    "#print times\n",
    "#for i in range(times):\n",
    "#    print soup.select('.works-box.mb17.fl')\n",
    "\n",
    "f = open('001.jpg', 'wb')\n",
    "shutil.copyfileobj(res.raw, f)\n",
    "f = open('001.jpg', 'rb')\n",
    "ablob = f.read()\n",
    "f.close()\n",
    "db.execute(\"INSERT INTO solidot VALUES (%s, %s, %s)\", (1, psycopg2.Binary(ablob), 0))\n",
    "\n",
    "conn.commit()\n",
    "conn.close()\n",
    "print(\"OK\")"
   ]
  },
  {
   "cell_type": "code",
   "execution_count": null,
   "metadata": {
    "collapsed": true
   },
   "outputs": [],
   "source": []
  },
  {
   "cell_type": "code",
   "execution_count": null,
   "metadata": {
    "collapsed": true
   },
   "outputs": [],
   "source": []
  },
  {
   "cell_type": "code",
   "execution_count": null,
   "metadata": {
    "collapsed": true
   },
   "outputs": [],
   "source": []
  },
  {
   "cell_type": "code",
   "execution_count": null,
   "metadata": {
    "collapsed": true
   },
   "outputs": [],
   "source": []
  }
 ],
 "metadata": {
  "kernelspec": {
   "display_name": "Python 2",
   "language": "python",
   "name": "python2"
  },
  "language_info": {
   "codemirror_mode": {
    "name": "ipython",
    "version": 2
   },
   "file_extension": ".py",
   "mimetype": "text/x-python",
   "name": "python",
   "nbconvert_exporter": "python",
   "pygments_lexer": "ipython2",
   "version": "2.7.10"
  }
 },
 "nbformat": 4,
 "nbformat_minor": 0
}
