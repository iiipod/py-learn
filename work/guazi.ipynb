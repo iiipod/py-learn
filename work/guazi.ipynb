{
 "cells": [
  {
   "cell_type": "code",
   "execution_count": 22,
   "metadata": {
    "collapsed": false
   },
   "outputs": [
    {
     "name": "stdout",
     "output_type": "stream",
     "text": [
      "OK\n"
     ]
    }
   ],
   "source": [
    "from bs4 import BeautifulSoup\n",
    "import requests\n",
    "import psycopg2\n",
    "\n",
    "conn = psycopg2.connect(database='solidot', user='python', password='passw0rd3pyth4n', host='127.0.0.1', port='5432')\n",
    "db = conn.cursor()\n",
    "db.execute('''CREATE TABLE IF NOT EXISTS guazi \\\n",
    "           (id INT PRIMARY KEY    NOT NULL,\n",
    "           prise     TEXT         NOT NULL,\n",
    "           context   TEXT);''')\n",
    "conn.commit()\n",
    "\n",
    "head = {'User-Agent':'Mozilla/5.0 (X11; Linux x86_64) AppleWebKit/537.36 (KHTML, like Gecko) Chrome/51.0.2704.19 Safari/537.36'}\n",
    "for page in range(1,30):\n",
    "    if page == 1:\n",
    "        html = 'http://www.guazi.com/sjz/buy/'\n",
    "    else:\n",
    "        html = 'http://www.guazi.com/sjz/buy/o' + str(page)\n",
    "    res = requests.get(html, headers=head)\n",
    "    soup = BeautifulSoup(res.text, 'html.parser')\n",
    "    titles = soup.select('div.list > ul > li > div > p.infoBox > a')\n",
    "    prices = soup.select('div.list > ul > li > div > p.priType-s > span > i')\n",
    "    times = len(soup.select('div.list > ul > li > div > p.infoBox > a'))\n",
    "    for i in range(times):\n",
    "        prise = prices[i].text.strip()\n",
    "        context = titles[i].text\n",
    "        db.execute(\"INSERT INTO guazi VALUES (%s, %s, %s)\", (i + page * times + 1, prise, context))   \n",
    "        \n",
    "conn.commit()\n",
    "conn.close()\n",
    "print(\"OK\")\n"
   ]
  },
  {
   "cell_type": "code",
   "execution_count": null,
   "metadata": {
    "collapsed": true
   },
   "outputs": [],
   "source": []
  },
  {
   "cell_type": "code",
   "execution_count": null,
   "metadata": {
    "collapsed": true
   },
   "outputs": [],
   "source": []
  }
 ],
 "metadata": {
  "kernelspec": {
   "display_name": "Python 2",
   "language": "python",
   "name": "python2"
  },
  "language_info": {
   "codemirror_mode": {
    "name": "ipython",
    "version": 2
   },
   "file_extension": ".py",
   "mimetype": "text/x-python",
   "name": "python",
   "nbconvert_exporter": "python",
   "pygments_lexer": "ipython2",
   "version": "2.7.10"
  }
 },
 "nbformat": 4,
 "nbformat_minor": 0
}
