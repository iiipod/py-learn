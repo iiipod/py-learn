{
 "cells": [
  {
   "cell_type": "code",
   "execution_count": 11,
   "metadata": {
    "collapsed": false,
    "scrolled": false
   },
   "outputs": [
    {
     "name": "stdout",
     "output_type": "stream",
     "text": [
      "OK\n"
     ]
    }
   ],
   "source": [
    "from bs4 import BeautifulSoup\n",
    "import requests\n",
    "import psycopg2\n",
    "import re\n",
    "\n",
    "conn = psycopg2.connect(database='solidot', user='python', password='passw0rd3pyth4n', host='127.0.0.1', port='5432')\n",
    "db = conn.cursor()\n",
    "db.execute('''CREATE TABLE IF NOT EXISTS guazi \\\n",
    "           (id INT PRIMARY KEY    NOT NULL,\n",
    "           city      TEXT         NOT NULL,\n",
    "           prise     TEXT         NOT NULL,\n",
    "           context   TEXT,\n",
    "           href      TEXT);''')\n",
    "conn.commit()\n",
    "\n",
    "head = {'User-Agent':'Mozilla/5.0 (X11; Linux x86_64) AppleWebKit/537.36 (KHTML, like Gecko) Chrome/51.0.2704.19 Safari/537.36'}\n",
    "city_list = []\n",
    "ids = 0\n",
    "www = 'http://www.guazi.com/'\n",
    "rest = requests.get(www, headers=head)\n",
    "soup1 = BeautifulSoup(rest.text, 'html.parser')\n",
    "all_citys = len(soup1.select('div.header > div.hd-top.clearfix > div.c2city > div > div > dl > dt'))\n",
    "for i in range(2,all_citys):\n",
    "    city = soup1.select('div.header > div.hd-top.clearfix > div.c2city > div > div > dl > dd')[i]\n",
    "    for j in range(len(city.findAll('a'))):\n",
    "        shi = re.findall('/.+?/', str(city.findAll('a')[j]))\n",
    "        city_list.append(shi)\n",
    "#x=soup.select('div.c2city dd a')\n",
    "#for city in x:\n",
    "#    print city['href']\n",
    "\n",
    "for p in range(len(city_list)):\n",
    "    for page in range(1,8):\n",
    "        if page == 1:\n",
    "            html = 'http://www.guazi.com' + str(city_list[p][0]) + 'buy/'\n",
    "        else:\n",
    "            html = 'http://www.guazi.com' + str(city_list[p][0]) + 'buy/o' + str(page)        \n",
    "#        print html\n",
    "        res = requests.get(html, headers=head)\n",
    "        soup = BeautifulSoup(res.text, 'html.parser')\n",
    "        titles = soup.select('div.list > ul > li > div > p.infoBox > a')\n",
    "        prices = soup.select('div.list > ul > li > div > p.priType-s > span:nth-of-type(1) > i') \n",
    "        times = len(soup.select('div.list > ul > li > div > p.infoBox > a'))\n",
    "        for i in range(times):\n",
    "            prise = prices[i].text.strip()\n",
    "            context = titles[i].text\n",
    "            href = 'http://www.guazi.com' + titles[i]['href']\n",
    "            ids += 1\n",
    "            db.execute(\"INSERT INTO guazi VALUES (%s, %s, %s, %s, %s)\", (ids, city_list[p][0], prise, context, href))\n",
    "            conn.commit()\n",
    "\n",
    "conn.commit()\n",
    "conn.close()\n",
    "print(\"OK\")\n"
   ]
  },
  {
   "cell_type": "code",
   "execution_count": null,
   "metadata": {
    "collapsed": true
   },
   "outputs": [],
   "source": []
  },
  {
   "cell_type": "code",
   "execution_count": null,
   "metadata": {
    "collapsed": true
   },
   "outputs": [],
   "source": []
  }
 ],
 "metadata": {
  "kernelspec": {
   "display_name": "Python 2",
   "language": "python",
   "name": "python2"
  },
  "language_info": {
   "codemirror_mode": {
    "name": "ipython",
    "version": 2
   },
   "file_extension": ".py",
   "mimetype": "text/x-python",
   "name": "python",
   "nbconvert_exporter": "python",
   "pygments_lexer": "ipython2",
   "version": "2.7.10"
  }
 },
 "nbformat": 4,
 "nbformat_minor": 0
}
