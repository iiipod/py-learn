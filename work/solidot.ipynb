{
 "cells": [
  {
   "cell_type": "code",
   "execution_count": 23,
   "metadata": {
    "collapsed": false
   },
   "outputs": [
    {
     "ename": "ProgrammingError",
     "evalue": "错误:  语法错误 在 \",\" 或附近的\nLINE 1: ...s,texts) VALUES (美国空军称SpaceX将GPS卫星发射费用削减了40%,\n                                                                      ^\n",
     "output_type": "error",
     "traceback": [
      "\u001b[1;31m---------------------------------------------------------------------------\u001b[0m",
      "\u001b[1;31mProgrammingError\u001b[0m                          Traceback (most recent call last)",
      "\u001b[1;32m<ipython-input-23-097c492c01ef>\u001b[0m in \u001b[0;36m<module>\u001b[1;34m()\u001b[0m\n\u001b[0;32m     20\u001b[0m     \u001b[0mtitle\u001b[0m \u001b[1;33m=\u001b[0m  \u001b[0mm\u001b[0m\u001b[1;33m.\u001b[0m\u001b[0mfindAll\u001b[0m\u001b[1;33m(\u001b[0m\u001b[0mhref\u001b[0m\u001b[1;33m=\u001b[0m\u001b[0mre\u001b[0m\u001b[1;33m.\u001b[0m\u001b[0mcompile\u001b[0m\u001b[1;33m(\u001b[0m\u001b[1;34m'story\\?sid'\u001b[0m\u001b[1;33m)\u001b[0m\u001b[1;33m)\u001b[0m\u001b[1;33m[\u001b[0m\u001b[1;36m0\u001b[0m\u001b[1;33m]\u001b[0m\u001b[1;33m.\u001b[0m\u001b[0mtext\u001b[0m\u001b[1;33m\u001b[0m\u001b[0m\n\u001b[0;32m     21\u001b[0m     \u001b[0mtext\u001b[0m \u001b[1;33m=\u001b[0m  \u001b[0msoup\u001b[0m\u001b[1;33m.\u001b[0m\u001b[0mfindAll\u001b[0m\u001b[1;33m(\u001b[0m\u001b[1;34m'div'\u001b[0m\u001b[1;33m,\u001b[0m \u001b[0mattrs\u001b[0m\u001b[1;33m=\u001b[0m\u001b[1;33m{\u001b[0m\u001b[1;34m\"class\"\u001b[0m\u001b[1;33m:\u001b[0m \u001b[1;34m\"p_mainnew\"\u001b[0m\u001b[1;33m}\u001b[0m\u001b[1;33m)\u001b[0m\u001b[1;33m[\u001b[0m\u001b[0mi\u001b[0m\u001b[1;33m]\u001b[0m\u001b[1;33m.\u001b[0m\u001b[0mtext\u001b[0m\u001b[1;33m\u001b[0m\u001b[0m\n\u001b[1;32m---> 22\u001b[1;33m     \u001b[0mdb\u001b[0m\u001b[1;33m.\u001b[0m\u001b[0mexecute\u001b[0m\u001b[1;33m(\u001b[0m\u001b[1;34m\"INSERT INTO solidot (titles,texts) VALUES (\"\u001b[0m \u001b[1;33m+\u001b[0m \u001b[0mtitle\u001b[0m \u001b[1;33m+\u001b[0m \u001b[1;34m','\u001b[0m \u001b[1;33m+\u001b[0m \u001b[0mtext\u001b[0m \u001b[1;33m+\u001b[0m \u001b[1;34m\");\"\u001b[0m\u001b[1;33m)\u001b[0m\u001b[1;33m\u001b[0m\u001b[0m\n\u001b[0m\u001b[0;32m     23\u001b[0m     \u001b[0mdb\u001b[0m\u001b[1;33m.\u001b[0m\u001b[0mcommit\u001b[0m\u001b[1;33m(\u001b[0m\u001b[1;33m)\u001b[0m\u001b[1;33m\u001b[0m\u001b[0m\n\u001b[0;32m     24\u001b[0m     \u001b[1;32mprint\u001b[0m \u001b[1;34m\"Operation done successfully\"\u001b[0m\u001b[1;33m;\u001b[0m\u001b[1;33m\u001b[0m\u001b[0m\n",
      "\u001b[1;31mProgrammingError\u001b[0m: 错误:  语法错误 在 \",\" 或附近的\nLINE 1: ...s,texts) VALUES (美国空军称SpaceX将GPS卫星发射费用削减了40%,\n                                                                      ^\n"
     ]
    }
   ],
   "source": [
    "#coding=utf-8\n",
    "import requests\n",
    "import re\n",
    "from bs4 import BeautifulSoup\n",
    "import psycopg2\n",
    "\n",
    "conn = psycopg2.connect(database=\"solidot\", user=\"python\", password=\"passw0rd3pyth4n\", host=\"127.0.0.1\", port=\"5432\")\n",
    "db = conn.cursor()\n",
    "db.execute('''CREATE TABLE IF NOT EXISTS solidot \\\n",
    "           (id INT PRIMARY KEY    NOT NULL,\n",
    "           titles    TEXT         NOT NULL, \n",
    "           texts     TEXT);''')\n",
    "\n",
    "head = {'User-Agent':'Mozilla/5.0 (X11; Linux x86_64) AppleWebKit/537.36 (KHTML, like Gecko) Chrome/51.0.2704.19 Safari/537.36'}\n",
    "res = requests.get('http://solidot.org', headers= head)\n",
    "\n",
    "soup = BeautifulSoup(res.text, 'html5lib')\n",
    "times = len(soup.findAll('div', attrs={\"class\": \"bg_htit\"}))\n",
    "for i in range(times):\n",
    "    m =  soup.findAll('div', attrs={\"class\": \"bg_htit\"})[i]\n",
    "    title =  m.findAll(href=re.compile('story\\?sid'))[0].text\n",
    "    text =  soup.findAll('div', attrs={\"class\": \"p_mainnew\"})[i].text\n",
    "    db.execute(\"INSERT INTO solidot (titles,texts) VALUES (\" + title + ',' + text + \");\") \n",
    "    db.commit()\n",
    "    print \"Operation done successfully\"; \n",
    "db.close()"
   ]
  },
  {
   "cell_type": "code",
   "execution_count": null,
   "metadata": {
    "collapsed": true
   },
   "outputs": [],
   "source": []
  }
 ],
 "metadata": {
  "kernelspec": {
   "display_name": "Python 2",
   "language": "python",
   "name": "python2"
  },
  "language_info": {
   "codemirror_mode": {
    "name": "ipython",
    "version": 2
   },
   "file_extension": ".py",
   "mimetype": "text/x-python",
   "name": "python",
   "nbconvert_exporter": "python",
   "pygments_lexer": "ipython2",
   "version": "2.7.11+"
  }
 },
 "nbformat": 4,
 "nbformat_minor": 0
}
