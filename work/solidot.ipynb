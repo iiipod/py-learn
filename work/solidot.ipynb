{
 "cells": [
  {
   "cell_type": "code",
   "execution_count": 50,
   "metadata": {
    "collapsed": false
   },
   "outputs": [
    {
     "name": "stdout",
     "output_type": "stream",
     "text": [
      "Operation done successfully\n"
     ]
    }
   ],
   "source": [
    "#coding=utf-8\n",
    "import requests\n",
    "import re\n",
    "from bs4 import BeautifulSoup\n",
    "import psycopg2\n",
    "\n",
    "conn = psycopg2.connect(database=\"solidot\", user=\"python\", password=\"passw0rd3pyth4n\", host=\"127.0.0.1\", port=\"5432\")\n",
    "db = conn.cursor()\n",
    "db.execute('''CREATE TABLE IF NOT EXISTS solidot \\\n",
    "           (id INT PRIMARY KEY    NOT NULL,\n",
    "           titles    TEXT         NOT NULL, \n",
    "           texts     TEXT);''')\n",
    "conn.commit()\n",
    "\n",
    "head = {'User-Agent':'Mozilla/5.0 (X11; Linux x86_64) AppleWebKit/537.36 (KHTML, like Gecko) Chrome/51.0.2704.19 Safari/537.36'}\n",
    "res = requests.get('http://solidot.org', headers= head)\n",
    "\n",
    "soup = BeautifulSoup(res.text, 'html5lib')\n",
    "times = len(soup.findAll('div', attrs={\"class\": \"bg_htit\"}))\n",
    "for i in range(times):\n",
    "    m =  soup.findAll('div', attrs={\"class\": \"bg_htit\"})[i]\n",
    "    title = m.findAll(href=re.compile('story\\?sid'))[0].text\n",
    "    text = soup.findAll('div', attrs={\"class\": \"p_mainnew\"})[i].text.strip()\n",
    "    db.execute(\"INSERT INTO solidot VALUES (%s, %s, %s)\", (i + 1, title, text))\n",
    "\n",
    "print \"Operation done successfully\"; \n",
    "conn.commit()\n",
    "conn.close()"
   ]
  },
  {
   "cell_type": "code",
   "execution_count": null,
   "metadata": {
    "collapsed": true
   },
   "outputs": [],
   "source": []
  },
  {
   "cell_type": "code",
   "execution_count": null,
   "metadata": {
    "collapsed": true
   },
   "outputs": [],
   "source": []
  },
  {
   "cell_type": "code",
   "execution_count": null,
   "metadata": {
    "collapsed": true
   },
   "outputs": [],
   "source": []
  }
 ],
 "metadata": {
  "kernelspec": {
   "display_name": "Python 2",
   "language": "python",
   "name": "python2"
  },
  "language_info": {
   "codemirror_mode": {
    "name": "ipython",
    "version": 2
   },
   "file_extension": ".py",
   "mimetype": "text/x-python",
   "name": "python",
   "nbconvert_exporter": "python",
   "pygments_lexer": "ipython2",
   "version": "2.7.10"
  }
 },
 "nbformat": 4,
 "nbformat_minor": 0
}
